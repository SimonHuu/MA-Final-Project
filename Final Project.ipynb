{
 "cells": [
  {
   "cell_type": "code",
   "execution_count": 1,
   "id": "2417a3a9-74d9-4e64-bbb5-9f6433d57db5",
   "metadata": {},
   "outputs": [],
   "source": [
    "import pandas as pd"
   ]
  },
  {
   "cell_type": "code",
   "execution_count": 2,
   "id": "daa05230-2b82-4b15-845b-8bf6cdcc9f35",
   "metadata": {},
   "outputs": [],
   "source": [
    "df = pd.read_csv('subscribers.csv')"
   ]
  },
  {
   "cell_type": "code",
   "execution_count": 4,
   "id": "2c82222a-02a9-4093-8c2c-f48886ecd901",
   "metadata": {},
   "outputs": [
    {
     "name": "stdout",
     "output_type": "stream",
     "text": [
      "<class 'pandas.core.frame.DataFrame'>\n",
      "RangeIndex: 227628 entries, 0 to 227627\n",
      "Data columns (total 31 columns):\n",
      " #   Column                        Non-Null Count   Dtype  \n",
      "---  ------                        --------------   -----  \n",
      " 0   Unnamed: 0                    227628 non-null  int64  \n",
      " 1   subid                         227628 non-null  int64  \n",
      " 2   package_type                  192054 non-null  object \n",
      " 3   num_weekly_services_utilized  117178 non-null  float64\n",
      " 4   preferred_genre               191302 non-null  object \n",
      " 5   intended_use                  224079 non-null  object \n",
      " 6   weekly_consumption_hour       189698 non-null  float64\n",
      " 7   num_ideal_streaming_services  115458 non-null  float64\n",
      " 8   age                           192459 non-null  float64\n",
      " 9   male_TF                       227359 non-null  object \n",
      " 10  country                       227628 non-null  object \n",
      " 11  attribution_technical         227628 non-null  object \n",
      " 12  attribution_survey            224984 non-null  object \n",
      " 13  op_sys                        214253 non-null  object \n",
      " 14  months_per_bill_period        227628 non-null  int64  \n",
      " 15  plan_type                     227628 non-null  object \n",
      " 16  monthly_price                 227628 non-null  float64\n",
      " 17  discount_price                227628 non-null  float64\n",
      " 18  account_creation_date         227628 non-null  object \n",
      " 19  trial_end_date                227628 non-null  object \n",
      " 20  initial_credit_card_declined  227628 non-null  bool   \n",
      " 21  join_fee                      192724 non-null  float64\n",
      " 22  language                      227628 non-null  object \n",
      " 23  payment_type                  92050 non-null   object \n",
      " 24  num_trial_days                227628 non-null  int64  \n",
      " 25  current_sub_TF                227628 non-null  bool   \n",
      " 26  payment_period                227628 non-null  int64  \n",
      " 27  last_payment                  132237 non-null  object \n",
      " 28  next_payment                  130250 non-null  object \n",
      " 29  cancel_date                   36831 non-null   object \n",
      " 30  trial_completed               227628 non-null  bool   \n",
      "dtypes: bool(3), float64(7), int64(5), object(16)\n",
      "memory usage: 49.3+ MB\n"
     ]
    }
   ],
   "source": [
    "df.info()"
   ]
  },
  {
   "cell_type": "code",
   "execution_count": 37,
   "id": "ee24470b-d2f8-4173-852d-73eeed88c5c8",
   "metadata": {},
   "outputs": [
    {
     "data": {
      "text/html": [
       "<div>\n",
       "<style scoped>\n",
       "    .dataframe tbody tr th:only-of-type {\n",
       "        vertical-align: middle;\n",
       "    }\n",
       "\n",
       "    .dataframe tbody tr th {\n",
       "        vertical-align: top;\n",
       "    }\n",
       "\n",
       "    .dataframe thead th {\n",
       "        text-align: right;\n",
       "    }\n",
       "</style>\n",
       "<table border=\"1\" class=\"dataframe\">\n",
       "  <thead>\n",
       "    <tr style=\"text-align: right;\">\n",
       "      <th></th>\n",
       "      <th>Unnamed: 0</th>\n",
       "      <th>subid</th>\n",
       "      <th>package_type</th>\n",
       "      <th>num_weekly_services_utilized</th>\n",
       "      <th>preferred_genre</th>\n",
       "      <th>intended_use</th>\n",
       "      <th>weekly_consumption_hour</th>\n",
       "      <th>num_ideal_streaming_services</th>\n",
       "      <th>age</th>\n",
       "      <th>male_TF</th>\n",
       "      <th>...</th>\n",
       "      <th>join_fee</th>\n",
       "      <th>language</th>\n",
       "      <th>payment_type</th>\n",
       "      <th>num_trial_days</th>\n",
       "      <th>current_sub_TF</th>\n",
       "      <th>payment_period</th>\n",
       "      <th>last_payment</th>\n",
       "      <th>next_payment</th>\n",
       "      <th>cancel_date</th>\n",
       "      <th>trial_completed</th>\n",
       "    </tr>\n",
       "  </thead>\n",
       "  <tbody>\n",
       "    <tr>\n",
       "      <th>0</th>\n",
       "      <td>162502</td>\n",
       "      <td>21724479</td>\n",
       "      <td>economy</td>\n",
       "      <td>NaN</td>\n",
       "      <td>comedy</td>\n",
       "      <td>access to exclusive content</td>\n",
       "      <td>NaN</td>\n",
       "      <td>NaN</td>\n",
       "      <td>NaN</td>\n",
       "      <td>False</td>\n",
       "      <td>...</td>\n",
       "      <td>NaN</td>\n",
       "      <td>ar</td>\n",
       "      <td>Standard Charter</td>\n",
       "      <td>14</td>\n",
       "      <td>True</td>\n",
       "      <td>1</td>\n",
       "      <td>2020-02-07 21:44:16</td>\n",
       "      <td>2020-06-07 21:44:16</td>\n",
       "      <td>NaN</td>\n",
       "      <td>True</td>\n",
       "    </tr>\n",
       "    <tr>\n",
       "      <th>1</th>\n",
       "      <td>380374</td>\n",
       "      <td>23383224</td>\n",
       "      <td>base</td>\n",
       "      <td>NaN</td>\n",
       "      <td>comedy</td>\n",
       "      <td>access to exclusive content</td>\n",
       "      <td>22.951579</td>\n",
       "      <td>NaN</td>\n",
       "      <td>70.0</td>\n",
       "      <td>False</td>\n",
       "      <td>...</td>\n",
       "      <td>0.3303</td>\n",
       "      <td>ar</td>\n",
       "      <td>NaN</td>\n",
       "      <td>14</td>\n",
       "      <td>True</td>\n",
       "      <td>1</td>\n",
       "      <td>2020-03-15 15:44:35</td>\n",
       "      <td>2020-07-15 15:44:35</td>\n",
       "      <td>NaN</td>\n",
       "      <td>True</td>\n",
       "    </tr>\n",
       "    <tr>\n",
       "      <th>2</th>\n",
       "      <td>496617</td>\n",
       "      <td>26844789</td>\n",
       "      <td>enhanced</td>\n",
       "      <td>3.0</td>\n",
       "      <td>regional</td>\n",
       "      <td>replace OTT</td>\n",
       "      <td>36.001186</td>\n",
       "      <td>2.0</td>\n",
       "      <td>25.0</td>\n",
       "      <td>True</td>\n",
       "      <td>...</td>\n",
       "      <td>0.1101</td>\n",
       "      <td>ar</td>\n",
       "      <td>NaN</td>\n",
       "      <td>14</td>\n",
       "      <td>False</td>\n",
       "      <td>0</td>\n",
       "      <td>NaN</td>\n",
       "      <td>NaN</td>\n",
       "      <td>NaN</td>\n",
       "      <td>True</td>\n",
       "    </tr>\n",
       "    <tr>\n",
       "      <th>3</th>\n",
       "      <td>356799</td>\n",
       "      <td>29417030</td>\n",
       "      <td>base</td>\n",
       "      <td>NaN</td>\n",
       "      <td>drama</td>\n",
       "      <td>replace OTT</td>\n",
       "      <td>20.051667</td>\n",
       "      <td>NaN</td>\n",
       "      <td>30.0</td>\n",
       "      <td>False</td>\n",
       "      <td>...</td>\n",
       "      <td>0.0367</td>\n",
       "      <td>ar</td>\n",
       "      <td>NaN</td>\n",
       "      <td>14</td>\n",
       "      <td>False</td>\n",
       "      <td>0</td>\n",
       "      <td>NaN</td>\n",
       "      <td>NaN</td>\n",
       "      <td>NaN</td>\n",
       "      <td>True</td>\n",
       "    </tr>\n",
       "    <tr>\n",
       "      <th>4</th>\n",
       "      <td>681701</td>\n",
       "      <td>26723159</td>\n",
       "      <td>base</td>\n",
       "      <td>4.0</td>\n",
       "      <td>comedy</td>\n",
       "      <td>replace OTT</td>\n",
       "      <td>22.951579</td>\n",
       "      <td>3.0</td>\n",
       "      <td>28.0</td>\n",
       "      <td>False</td>\n",
       "      <td>...</td>\n",
       "      <td>0.0367</td>\n",
       "      <td>ar</td>\n",
       "      <td>NaN</td>\n",
       "      <td>14</td>\n",
       "      <td>True</td>\n",
       "      <td>2</td>\n",
       "      <td>2020-02-19 12:57:07</td>\n",
       "      <td>2020-06-19 12:57:07</td>\n",
       "      <td>NaN</td>\n",
       "      <td>True</td>\n",
       "    </tr>\n",
       "  </tbody>\n",
       "</table>\n",
       "<p>5 rows × 31 columns</p>\n",
       "</div>"
      ],
      "text/plain": [
       "   Unnamed: 0     subid package_type  num_weekly_services_utilized  \\\n",
       "0      162502  21724479      economy                           NaN   \n",
       "1      380374  23383224         base                           NaN   \n",
       "2      496617  26844789     enhanced                           3.0   \n",
       "3      356799  29417030         base                           NaN   \n",
       "4      681701  26723159         base                           4.0   \n",
       "\n",
       "  preferred_genre                 intended_use  weekly_consumption_hour  \\\n",
       "0          comedy  access to exclusive content                      NaN   \n",
       "1          comedy  access to exclusive content                22.951579   \n",
       "2        regional                  replace OTT                36.001186   \n",
       "3           drama                  replace OTT                20.051667   \n",
       "4          comedy                  replace OTT                22.951579   \n",
       "\n",
       "   num_ideal_streaming_services   age male_TF  ... join_fee language  \\\n",
       "0                           NaN   NaN   False  ...      NaN       ar   \n",
       "1                           NaN  70.0   False  ...   0.3303       ar   \n",
       "2                           2.0  25.0    True  ...   0.1101       ar   \n",
       "3                           NaN  30.0   False  ...   0.0367       ar   \n",
       "4                           3.0  28.0   False  ...   0.0367       ar   \n",
       "\n",
       "       payment_type num_trial_days  current_sub_TF payment_period  \\\n",
       "0  Standard Charter             14            True              1   \n",
       "1               NaN             14            True              1   \n",
       "2               NaN             14           False              0   \n",
       "3               NaN             14           False              0   \n",
       "4               NaN             14            True              2   \n",
       "\n",
       "          last_payment         next_payment cancel_date trial_completed  \n",
       "0  2020-02-07 21:44:16  2020-06-07 21:44:16         NaN            True  \n",
       "1  2020-03-15 15:44:35  2020-07-15 15:44:35         NaN            True  \n",
       "2                  NaN                  NaN         NaN            True  \n",
       "3                  NaN                  NaN         NaN            True  \n",
       "4  2020-02-19 12:57:07  2020-06-19 12:57:07         NaN            True  \n",
       "\n",
       "[5 rows x 31 columns]"
      ]
     },
     "execution_count": 37,
     "metadata": {},
     "output_type": "execute_result"
    }
   ],
   "source": [
    "df.head()"
   ]
  },
  {
   "cell_type": "code",
   "execution_count": 15,
   "id": "5f09b6c7-a01a-48c3-a9e7-70d3553c6c1e",
   "metadata": {},
   "outputs": [
    {
     "data": {
      "text/plain": [
       "0     2020-02-07 21:44:16\n",
       "1     2020-03-15 15:44:35\n",
       "2                     NaN\n",
       "3                     NaN\n",
       "4     2020-02-19 12:57:07\n",
       "5     2020-03-17 20:15:43\n",
       "6     2020-03-04 18:30:15\n",
       "7     2020-03-19 14:52:22\n",
       "8     2020-03-08 17:50:25\n",
       "9                     NaN\n",
       "10    2019-07-25 16:00:42\n",
       "11    2019-12-15 07:29:14\n",
       "12                    NaN\n",
       "13                    NaN\n",
       "14                    NaN\n",
       "15    2020-03-23 03:09:57\n",
       "16    2020-02-16 00:15:01\n",
       "17                    NaN\n",
       "18    2020-01-28 22:14:26\n",
       "19                    NaN\n",
       "20    2020-03-25 03:19:28\n",
       "21    2020-03-17 17:33:57\n",
       "22                    NaN\n",
       "23                    NaN\n",
       "24    2020-03-23 20:12:26\n",
       "25                    NaN\n",
       "26                    NaN\n",
       "27    2020-03-22 20:42:05\n",
       "28                    NaN\n",
       "29    2020-02-22 05:49:40\n",
       "Name: last_payment, dtype: object"
      ]
     },
     "execution_count": 15,
     "metadata": {},
     "output_type": "execute_result"
    }
   ],
   "source": [
    "df['last_payment'].head(30)"
   ]
  },
  {
   "cell_type": "code",
   "execution_count": 16,
   "id": "0e250783-60aa-4200-8b6d-1ea880b2d97c",
   "metadata": {},
   "outputs": [
    {
     "data": {
      "text/plain": [
       "0     2020-06-07 21:44:16\n",
       "1     2020-07-15 15:44:35\n",
       "2                     NaN\n",
       "3                     NaN\n",
       "4     2020-06-19 12:57:07\n",
       "5     2020-07-17 20:15:43\n",
       "6     2020-07-04 18:30:15\n",
       "7     2020-07-19 14:52:22\n",
       "8     2020-07-08 17:50:25\n",
       "9                     NaN\n",
       "10                    NaN\n",
       "11    2020-04-15 07:29:14\n",
       "12                    NaN\n",
       "13                    NaN\n",
       "14                    NaN\n",
       "15    2020-07-23 03:09:57\n",
       "16    2020-06-16 00:15:01\n",
       "17                    NaN\n",
       "18    2020-05-28 22:14:26\n",
       "19                    NaN\n",
       "20    2020-07-25 03:19:28\n",
       "21    2020-07-17 17:33:57\n",
       "22                    NaN\n",
       "23                    NaN\n",
       "24    2020-07-23 20:12:26\n",
       "25                    NaN\n",
       "26    2020-04-01 23:06:25\n",
       "27    2020-07-22 20:42:05\n",
       "28                    NaN\n",
       "29    2020-06-22 05:49:40\n",
       "Name: next_payment, dtype: object"
      ]
     },
     "execution_count": 16,
     "metadata": {},
     "output_type": "execute_result"
    }
   ],
   "source": [
    "df['next_payment'].head(30)"
   ]
  },
  {
   "cell_type": "code",
   "execution_count": 17,
   "id": "7cb4f2d1-527f-400f-ad21-d2e0d0300547",
   "metadata": {},
   "outputs": [],
   "source": [
    "df_channel = pd.read_csv('channel_spend_graduate.csv')"
   ]
  },
  {
   "cell_type": "code",
   "execution_count": 18,
   "id": "74fa0844-3ccb-477d-80a5-fbd808087b15",
   "metadata": {},
   "outputs": [
    {
     "data": {
      "text/html": [
       "<div>\n",
       "<style scoped>\n",
       "    .dataframe tbody tr th:only-of-type {\n",
       "        vertical-align: middle;\n",
       "    }\n",
       "\n",
       "    .dataframe tbody tr th {\n",
       "        vertical-align: top;\n",
       "    }\n",
       "\n",
       "    .dataframe thead th {\n",
       "        text-align: right;\n",
       "    }\n",
       "</style>\n",
       "<table border=\"1\" class=\"dataframe\">\n",
       "  <thead>\n",
       "    <tr style=\"text-align: right;\">\n",
       "      <th></th>\n",
       "      <th>channel</th>\n",
       "      <th>date</th>\n",
       "      <th>spend_AED</th>\n",
       "    </tr>\n",
       "  </thead>\n",
       "  <tbody>\n",
       "    <tr>\n",
       "      <th>0</th>\n",
       "      <td>bing</td>\n",
       "      <td>201907</td>\n",
       "      <td>400</td>\n",
       "    </tr>\n",
       "    <tr>\n",
       "      <th>1</th>\n",
       "      <td>display</td>\n",
       "      <td>201907</td>\n",
       "      <td>12</td>\n",
       "    </tr>\n",
       "    <tr>\n",
       "      <th>2</th>\n",
       "      <td>facebook</td>\n",
       "      <td>201907</td>\n",
       "      <td>9000</td>\n",
       "    </tr>\n",
       "    <tr>\n",
       "      <th>3</th>\n",
       "      <td>search</td>\n",
       "      <td>201907</td>\n",
       "      <td>13000</td>\n",
       "    </tr>\n",
       "    <tr>\n",
       "      <th>4</th>\n",
       "      <td>youtube</td>\n",
       "      <td>201907</td>\n",
       "      <td>90</td>\n",
       "    </tr>\n",
       "  </tbody>\n",
       "</table>\n",
       "</div>"
      ],
      "text/plain": [
       "    channel    date  spend_AED\n",
       "0      bing  201907        400\n",
       "1   display  201907         12\n",
       "2  facebook  201907       9000\n",
       "3    search  201907      13000\n",
       "4   youtube  201907         90"
      ]
     },
     "execution_count": 18,
     "metadata": {},
     "output_type": "execute_result"
    }
   ],
   "source": [
    "df_channel.head()"
   ]
  },
  {
   "cell_type": "code",
   "execution_count": 19,
   "id": "3d6aa699-32ef-49f1-8c58-103f7d6a53af",
   "metadata": {},
   "outputs": [
    {
     "data": {
      "text/plain": [
       "array(['bing', 'display', 'facebook', 'search', 'youtube'], dtype=object)"
      ]
     },
     "execution_count": 19,
     "metadata": {},
     "output_type": "execute_result"
    }
   ],
   "source": [
    "df_channel['channel'].unique()"
   ]
  },
  {
   "cell_type": "code",
   "execution_count": 32,
   "id": "b011622b-f380-4e89-8386-4880aed99fad",
   "metadata": {},
   "outputs": [],
   "source": [
    "df_channel_bing = df_channel[df_channel['channel']=='bing']\n",
    "df_channel_display = df_channel[df_channel['channel']=='display']\n",
    "df_channel_facebook = df_channel[df_channel['channel']=='facebook']\n",
    "df_channel_search = df_channel[df_channel['channel']=='search']\n",
    "df_channel_youtube = df_channel[df_channel['channel']=='youtube']"
   ]
  },
  {
   "cell_type": "code",
   "execution_count": 35,
   "id": "93447491-dfb6-47c9-8aa2-58a4a100e54a",
   "metadata": {},
   "outputs": [],
   "source": [
    "spending_bing = df_channel_bing['spend_AED'].sum()\n",
    "spending_display = df_channel_display['spend_AED'].sum()\n",
    "spending_facebook = df_channel_facebook['spend_AED'].sum()\n",
    "spending_search = df_channel_search['spend_AED'].sum()\n",
    "spending_youtube = df_channel_youtube['spend_AED'].sum()"
   ]
  },
  {
   "cell_type": "code",
   "execution_count": 36,
   "id": "45a6d044-9e0c-44f4-a137-9f514fa2ac45",
   "metadata": {},
   "outputs": [
    {
     "name": "stdout",
     "output_type": "stream",
     "text": [
      "10800 366 113500 222500 8730\n"
     ]
    }
   ],
   "source": [
    "print(spending_bing,spending_display,spending_facebook,spending_search,spending_youtube)"
   ]
  },
  {
   "cell_type": "code",
   "execution_count": 40,
   "id": "4a34d222-d3ba-4a64-bce4-6ef53a3f935e",
   "metadata": {},
   "outputs": [
    {
     "data": {
      "text/plain": [
       "array(['comedy', 'regional', 'drama', nan, 'other', 'international'],\n",
       "      dtype=object)"
      ]
     },
     "execution_count": 40,
     "metadata": {},
     "output_type": "execute_result"
    }
   ],
   "source": [
    "df['preferred_genre'].unique()"
   ]
  },
  {
   "cell_type": "code",
   "execution_count": 41,
   "id": "9db02b4e-1456-4c93-b15d-a57b0d08e4a6",
   "metadata": {},
   "outputs": [
    {
     "data": {
      "text/plain": [
       "comedy           125129\n",
       "drama             46872\n",
       "regional           8990\n",
       "international      6404\n",
       "other              3907\n",
       "Name: preferred_genre, dtype: int64"
      ]
     },
     "execution_count": 41,
     "metadata": {},
     "output_type": "execute_result"
    }
   ],
   "source": [
    "df['preferred_genre'].value_counts()"
   ]
  },
  {
   "cell_type": "code",
   "execution_count": 42,
   "id": "101f80ca-1b28-439a-b5ac-dcdbe9a4d763",
   "metadata": {},
   "outputs": [
    {
     "data": {
      "text/plain": [
       "50.0        6355\n",
       "40.0        5509\n",
       "60.0        5221\n",
       "48.0        4651\n",
       "47.0        4517\n",
       "            ... \n",
       "11955.0        1\n",
       "360.0          1\n",
       "4217.0         1\n",
       "761943.0       1\n",
       "16.0           1\n",
       "Name: age, Length: 278, dtype: int64"
      ]
     },
     "execution_count": 42,
     "metadata": {},
     "output_type": "execute_result"
    }
   ],
   "source": [
    "df['age'].value_counts()"
   ]
  },
  {
   "cell_type": "code",
   "execution_count": 43,
   "id": "17f36515-b852-4a8d-8a55-ad15c1dee749",
   "metadata": {},
   "outputs": [],
   "source": [
    "df = df.loc[df['age']<=100]"
   ]
  },
  {
   "cell_type": "code",
   "execution_count": 44,
   "id": "3981e4c1-fbbd-4a50-bb72-45142f376d80",
   "metadata": {},
   "outputs": [
    {
     "data": {
      "text/plain": [
       "50.000000    6355\n",
       "40.000000    5509\n",
       "60.000000    5221\n",
       "48.000000    4651\n",
       "47.000000    4517\n",
       "             ... \n",
       "74.390053       1\n",
       "68.814363       1\n",
       "56.515428       1\n",
       "42.359666       1\n",
       "48.412421       1\n",
       "Name: age, Length: 100, dtype: int64"
      ]
     },
     "execution_count": 44,
     "metadata": {},
     "output_type": "execute_result"
    }
   ],
   "source": [
    "df['age'].value_counts()"
   ]
  },
  {
   "cell_type": "code",
   "execution_count": 47,
   "id": "9bd866eb-d6e0-46ff-9e1e-149f9f4730d9",
   "metadata": {},
   "outputs": [],
   "source": [
    "age_1 = df.loc[df['age']<=20].shape[0]\n",
    "age_2 = df.loc[(df['age']<=40) & (df['age']>20)].shape[0]\n",
    "age_3 = df.loc[(df['age']<=60) & (df['age']>40)].shape[0]\n",
    "age_4 = df.loc[(df['age']<=80) & (df['age']>60)].shape[0]\n",
    "age_5 = df.loc[(df['age']<=100) & (df['age']>80)].shape[0]"
   ]
  },
  {
   "cell_type": "code",
   "execution_count": 48,
   "id": "cb9f04bd-1772-4302-9e10-464284d95f0c",
   "metadata": {},
   "outputs": [
    {
     "name": "stdout",
     "output_type": "stream",
     "text": [
      "3416 68078 87573 32107 397\n"
     ]
    }
   ],
   "source": [
    "print(age_1,age_2,age_3,age_4,age_5)"
   ]
  },
  {
   "cell_type": "code",
   "execution_count": 49,
   "id": "941a6ebd-549e-4188-8f85-6e1f838480a9",
   "metadata": {},
   "outputs": [
    {
     "data": {
      "text/plain": [
       "array([14,  0])"
      ]
     },
     "execution_count": 49,
     "metadata": {},
     "output_type": "execute_result"
    }
   ],
   "source": [
    "df['num_trial_days'].unique()"
   ]
  },
  {
   "cell_type": "code",
   "execution_count": 51,
   "id": "a55e8f18-cd33-4dfc-9582-39429dca1fd0",
   "metadata": {},
   "outputs": [
    {
     "data": {
      "text/plain": [
       "4.7343    191045\n",
       "5.1013       325\n",
       "1.0643       166\n",
       "4.4407        18\n",
       "4.3673        12\n",
       "4.0003         2\n",
       "0.8074         1\n",
       "1.1744         1\n",
       "4.6976         1\n",
       "Name: monthly_price, dtype: int64"
      ]
     },
     "execution_count": 51,
     "metadata": {},
     "output_type": "execute_result"
    }
   ],
   "source": [
    "df['monthly_price'].value_counts()"
   ]
  },
  {
   "cell_type": "code",
   "execution_count": 52,
   "id": "db359552-96da-484f-90fb-a9af685882b9",
   "metadata": {},
   "outputs": [
    {
     "data": {
      "text/plain": [
       "base_uae_14_day_trial                191040\n",
       "high_uae_14_day_trial                   325\n",
       "low_uae_no_trial                        166\n",
       "base_eur_14_day_trial                    18\n",
       "high_sar_14_day_trial                    12\n",
       "low_gbp_14_day_trial                      4\n",
       "high_aud_14_day_trial                     2\n",
       "high_jpy_14_day_trial                     1\n",
       "low_eur_no_trial                          1\n",
       "low_sar_no_trial                          1\n",
       "base_uae_no_trial_7_day_guarantee         1\n",
       "Name: plan_type, dtype: int64"
      ]
     },
     "execution_count": 52,
     "metadata": {},
     "output_type": "execute_result"
    }
   ],
   "source": [
    "df['plan_type'].value_counts()"
   ]
  },
  {
   "cell_type": "code",
   "execution_count": null,
   "id": "48b75c8d-76cb-4e5e-8f5f-14e264a645a9",
   "metadata": {},
   "outputs": [],
   "source": []
  }
 ],
 "metadata": {
  "kernelspec": {
   "display_name": "Python 3",
   "language": "python",
   "name": "python3"
  },
  "language_info": {
   "codemirror_mode": {
    "name": "ipython",
    "version": 3
   },
   "file_extension": ".py",
   "mimetype": "text/x-python",
   "name": "python",
   "nbconvert_exporter": "python",
   "pygments_lexer": "ipython3",
   "version": "3.8.8"
  }
 },
 "nbformat": 4,
 "nbformat_minor": 5
}
